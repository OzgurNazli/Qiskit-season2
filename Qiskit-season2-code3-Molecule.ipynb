{
 "cells": [
  {
   "cell_type": "code",
   "execution_count": 14,
   "id": "4a115a9d",
   "metadata": {},
   "outputs": [],
   "source": [
    "# Variational Qauntum Eigensolver - Chemistry Simulations\n",
    "# We can estimate the ground state energy of a system, by making an eduacted guess\n",
    "# of its wave function.\n",
    "# we then vary out way of function untl we get a minimum value of the ground state energy\n",
    "# given our model of the Hamiltonian.\n",
    "# VQE = Computes Energy (Quantum Part) + Optimize Variational Pattern (Classical Part)\n",
    "# Terminology: - Ansatz: an educated guess of the wavefunction\n",
    "#              - Mapping: the process of encoding the ansatz into the qubits of Quantum Computer\n",
    "# 1- Ansatz then mapping => choose parameters to calculate energy\n",
    "# 2- QC perfom measurement to calculate energy of the molecule \n",
    "# 3- the energy return to the classical optimizer, updates the ansatz"
   ]
  },
  {
   "cell_type": "code",
   "execution_count": 26,
   "id": "2677490e",
   "metadata": {},
   "outputs": [],
   "source": [
    "import numpy as np"
   ]
  },
  {
   "cell_type": "code",
   "execution_count": 27,
   "id": "35c530af",
   "metadata": {},
   "outputs": [],
   "source": [
    "import pylab"
   ]
  },
  {
   "cell_type": "code",
   "execution_count": 28,
   "id": "9f76ab61",
   "metadata": {},
   "outputs": [],
   "source": [
    "import copy"
   ]
  },
  {
   "cell_type": "code",
   "execution_count": 29,
   "id": "77d52729",
   "metadata": {},
   "outputs": [],
   "source": [
    "from qiskit import BasicAer"
   ]
  },
  {
   "cell_type": "code",
   "execution_count": 30,
   "id": "b0c2b488",
   "metadata": {},
   "outputs": [],
   "source": [
    "from qiskit.utils import algorithm_globals, QuantumInstance"
   ]
  },
  {
   "cell_type": "code",
   "execution_count": 31,
   "id": "7d1c746d",
   "metadata": {},
   "outputs": [],
   "source": [
    "from qiskit.algorithms import NumPyMinimumEigensolver, VQE"
   ]
  },
  {
   "cell_type": "code",
   "execution_count": 32,
   "id": "6adf1c30",
   "metadata": {},
   "outputs": [],
   "source": [
    "from qiskit.algorithms.optimizers import SLSQP #classical optimizer"
   ]
  },
  {
   "cell_type": "code",
   "execution_count": 33,
   "id": "c17aa898",
   "metadata": {},
   "outputs": [],
   "source": [
    "# write !pip install qiskit-nature if following codes does not work"
   ]
  },
  {
   "cell_type": "code",
   "execution_count": 34,
   "id": "aee604ef",
   "metadata": {},
   "outputs": [],
   "source": [
    "from qiskit_nature.second_q.circuit.library.initial_states import hartree_fock"
   ]
  },
  {
   "cell_type": "code",
   "execution_count": 35,
   "id": "62a4a892",
   "metadata": {},
   "outputs": [],
   "source": [
    "from qiskit_nature.second_q.circuit.library.ansatzes import uccsd"
   ]
  },
  {
   "cell_type": "code",
   "execution_count": 62,
   "id": "8e940ea6",
   "metadata": {},
   "outputs": [
    {
     "name": "stdout",
     "output_type": "stream",
     "text": [
      "Defaulting to user installation because normal site-packages is not writeable\n",
      "Collecting pyscf\n",
      "  Using cached pyscf-2.3.0.tar.gz (8.7 MB)\n",
      "Requirement already satisfied: numpy!=1.16,!=1.17,>=1.13 in c:\\users\\özgür nazlı\\appdata\\roaming\\python\\python39\\site-packages (from pyscf) (1.23.5)\n",
      "Requirement already satisfied: scipy!=1.5.0,!=1.5.1 in c:\\users\\özgür nazlı\\appdata\\roaming\\python\\python39\\site-packages (from pyscf) (1.10.0)\n",
      "Requirement already satisfied: h5py>=2.7 in c:\\programdata\\anaconda3\\lib\\site-packages (from pyscf) (3.6.0)\n",
      "Building wheels for collected packages: pyscf\n",
      "  Building wheel for pyscf (setup.py): started\n",
      "  Building wheel for pyscf (setup.py): finished with status 'error'\n",
      "  Running setup.py clean for pyscf\n",
      "Failed to build pyscf\n",
      "Installing collected packages: pyscf\n",
      "    Running setup.py install for pyscf: started\n",
      "    Running setup.py install for pyscf: finished with status 'error'\n"
     ]
    },
    {
     "name": "stderr",
     "output_type": "stream",
     "text": [
      "  ERROR: Command errored out with exit status 1:\n",
      "   command: 'C:\\ProgramData\\Anaconda3\\python.exe' -u -c 'import io, os, sys, setuptools, tokenize; sys.argv[0] = '\"'\"'C:\\\\Users\\\\Özgür Nazlı\\\\AppData\\\\Local\\\\Temp\\\\pip-install-4mzhgpyk\\\\pyscf_f9e82659cfe24e7994ddb71d00ac2697\\\\setup.py'\"'\"'; __file__='\"'\"'C:\\\\Users\\\\Özgür Nazlı\\\\AppData\\\\Local\\\\Temp\\\\pip-install-4mzhgpyk\\\\pyscf_f9e82659cfe24e7994ddb71d00ac2697\\\\setup.py'\"'\"';f = getattr(tokenize, '\"'\"'open'\"'\"', open)(__file__) if os.path.exists(__file__) else io.StringIO('\"'\"'from setuptools import setup; setup()'\"'\"');code = f.read().replace('\"'\"'\\r\\n'\"'\"', '\"'\"'\\n'\"'\"');f.close();exec(compile(code, __file__, '\"'\"'exec'\"'\"'))' bdist_wheel -d 'C:\\Users\\Özgür Nazlı\\AppData\\Local\\Temp\\pip-wheel-bi16zck3'\n",
      "       cwd: C:\\Users\\Özgür Nazlı\\AppData\\Local\\Temp\\pip-install-4mzhgpyk\\pyscf_f9e82659cfe24e7994ddb71d00ac2697\\\n",
      "  Complete output (6 lines):\n",
      "  running bdist_wheel\n",
      "  running build\n",
      "  running build_ext\n",
      "  Configuring extensions\n",
      "  cmake \"-SC:\\Users\\Özgür Nazlı\\AppData\\Local\\Temp\\pip-install-4mzhgpyk\\pyscf_f9e82659cfe24e7994ddb71d00ac2697\\pyscf\\lib\" -Bbuild\\temp.win-amd64-3.9\\Release\n",
      "  error: command 'cmake' failed: None\n",
      "  ----------------------------------------\n",
      "  ERROR: Failed building wheel for pyscf\n",
      "    ERROR: Command errored out with exit status 1:\n",
      "     command: 'C:\\ProgramData\\Anaconda3\\python.exe' -u -c 'import io, os, sys, setuptools, tokenize; sys.argv[0] = '\"'\"'C:\\\\Users\\\\Özgür Nazlı\\\\AppData\\\\Local\\\\Temp\\\\pip-install-4mzhgpyk\\\\pyscf_f9e82659cfe24e7994ddb71d00ac2697\\\\setup.py'\"'\"'; __file__='\"'\"'C:\\\\Users\\\\Özgür Nazlı\\\\AppData\\\\Local\\\\Temp\\\\pip-install-4mzhgpyk\\\\pyscf_f9e82659cfe24e7994ddb71d00ac2697\\\\setup.py'\"'\"';f = getattr(tokenize, '\"'\"'open'\"'\"', open)(__file__) if os.path.exists(__file__) else io.StringIO('\"'\"'from setuptools import setup; setup()'\"'\"');code = f.read().replace('\"'\"'\\r\\n'\"'\"', '\"'\"'\\n'\"'\"');f.close();exec(compile(code, __file__, '\"'\"'exec'\"'\"'))' install --record 'C:\\Users\\Özgür Nazlı\\AppData\\Local\\Temp\\pip-record-rmnwy2k_\\install-record.txt' --single-version-externally-managed --user --prefix= --compile --install-headers 'C:\\Users\\Özgür Nazlı\\AppData\\Roaming\\Python\\Python39\\Include\\pyscf'\n",
      "         cwd: C:\\Users\\Özgür Nazlı\\AppData\\Local\\Temp\\pip-install-4mzhgpyk\\pyscf_f9e82659cfe24e7994ddb71d00ac2697\\\n",
      "    Complete output (8 lines):\n",
      "    running install\n",
      "    C:\\ProgramData\\Anaconda3\\lib\\site-packages\\setuptools\\command\\install.py:34: SetuptoolsDeprecationWarning: setup.py install is deprecated. Use build and pip and other standards-based tools.\n",
      "      warnings.warn(\n",
      "    running build\n",
      "    running build_ext\n",
      "    Configuring extensions\n",
      "    cmake \"-SC:\\Users\\Özgür Nazlı\\AppData\\Local\\Temp\\pip-install-4mzhgpyk\\pyscf_f9e82659cfe24e7994ddb71d00ac2697\\pyscf\\lib\" -Bbuild\\temp.win-amd64-3.9\\Release\n",
      "    error: command 'cmake' failed: None\n",
      "    ----------------------------------------\n",
      "ERROR: Command errored out with exit status 1: 'C:\\ProgramData\\Anaconda3\\python.exe' -u -c 'import io, os, sys, setuptools, tokenize; sys.argv[0] = '\"'\"'C:\\\\Users\\\\Özgür Nazlı\\\\AppData\\\\Local\\\\Temp\\\\pip-install-4mzhgpyk\\\\pyscf_f9e82659cfe24e7994ddb71d00ac2697\\\\setup.py'\"'\"'; __file__='\"'\"'C:\\\\Users\\\\Özgür Nazlı\\\\AppData\\\\Local\\\\Temp\\\\pip-install-4mzhgpyk\\\\pyscf_f9e82659cfe24e7994ddb71d00ac2697\\\\setup.py'\"'\"';f = getattr(tokenize, '\"'\"'open'\"'\"', open)(__file__) if os.path.exists(__file__) else io.StringIO('\"'\"'from setuptools import setup; setup()'\"'\"');code = f.read().replace('\"'\"'\\r\\n'\"'\"', '\"'\"'\\n'\"'\"');f.close();exec(compile(code, __file__, '\"'\"'exec'\"'\"'))' install --record 'C:\\Users\\Özgür Nazlı\\AppData\\Local\\Temp\\pip-record-rmnwy2k_\\install-record.txt' --single-version-externally-managed --user --prefix= --compile --install-headers 'C:\\Users\\Özgür Nazlı\\AppData\\Roaming\\Python\\Python39\\Include\\pyscf' Check the logs for full command output.\n"
     ]
    }
   ],
   "source": [
    "!pip install --prefer-binary pyscf"
   ]
  },
  {
   "cell_type": "code",
   "execution_count": 60,
   "id": "5f5a1062",
   "metadata": {},
   "outputs": [],
   "source": [
    "from qiskit_nature.second_q.drivers import PySCFDriver"
   ]
  },
  {
   "cell_type": "code",
   "execution_count": 54,
   "id": "062f58f3",
   "metadata": {},
   "outputs": [],
   "source": [
    "from qiskit_nature.second_q.mappers import qubit_mapper, parity_mapper"
   ]
  },
  {
   "cell_type": "code",
   "execution_count": 55,
   "id": "04bbd5c9",
   "metadata": {},
   "outputs": [],
   "source": [
    "from qiskit_nature.second_q.hamiltonians import hamiltonian"
   ]
  },
  {
   "cell_type": "code",
   "execution_count": 56,
   "id": "49bf66ca",
   "metadata": {},
   "outputs": [],
   "source": [
    "molecule = 'H .0 .0 --{0}; Ki .0 .0 {0}'"
   ]
  },
  {
   "cell_type": "code",
   "execution_count": 57,
   "id": "7917ded4",
   "metadata": {},
   "outputs": [],
   "source": [
    "distances = np.arange(0.5, 4.25, 0.25)\n",
    "vqe_energies = [] #ground state energy\n",
    "hf_energies = [] #initial guess that doesn't optmized now\n",
    "exact_energies = []"
   ]
  },
  {
   "cell_type": "code",
   "execution_count": 61,
   "id": "5f5f55ca",
   "metadata": {},
   "outputs": [
    {
     "name": "stdout",
     "output_type": "stream",
     "text": [
      "step 0\n"
     ]
    },
    {
     "ename": "MissingOptionalLibraryError",
     "evalue": "\"The 'pyscf' library is required to use 'PySCFDriver'.  See https://pyscf.org/install.html.\"",
     "output_type": "error",
     "traceback": [
      "\u001b[1;31m---------------------------------------------------------------------------\u001b[0m",
      "\u001b[1;31mMissingOptionalLibraryError\u001b[0m               Traceback (most recent call last)",
      "Input \u001b[1;32mIn [61]\u001b[0m, in \u001b[0;36m<cell line: 1>\u001b[1;34m()\u001b[0m\n\u001b[0;32m      2\u001b[0m \u001b[38;5;28mprint\u001b[39m(\u001b[38;5;124m'\u001b[39m\u001b[38;5;124mstep\u001b[39m\u001b[38;5;124m'\u001b[39m,i)\n\u001b[0;32m      4\u001b[0m \u001b[38;5;66;03m# set up experiment\u001b[39;00m\n\u001b[1;32m----> 5\u001b[0m driver \u001b[38;5;241m=\u001b[39m \u001b[43mPySCFDriver\u001b[49m\u001b[43m(\u001b[49m\u001b[43matom\u001b[49m\u001b[38;5;241;43m=\u001b[39;49m\u001b[43mmolecule\u001b[49m\u001b[43m,\u001b[49m\u001b[43m \u001b[49m\u001b[43mbasis\u001b[49m\u001b[38;5;241;43m=\u001b[39;49m\u001b[38;5;124;43m\"\u001b[39;49m\u001b[38;5;124;43msto-3g\u001b[39;49m\u001b[38;5;124;43m\"\u001b[39;49m\u001b[43m)\u001b[49m\n\u001b[0;32m      6\u001b[0m problem \u001b[38;5;241m=\u001b[39m driver\u001b[38;5;241m.\u001b[39mrun()\n",
      "File \u001b[1;32m~\\AppData\\Roaming\\Python\\Python39\\site-packages\\qiskit\\utils\\classtools.py:111\u001b[0m, in \u001b[0;36m_WrappedMethod.__get__.<locals>.out\u001b[1;34m(*args, **kwargs)\u001b[0m\n\u001b[0;32m    108\u001b[0m \u001b[38;5;129m@functools\u001b[39m\u001b[38;5;241m.\u001b[39mwraps(method)\n\u001b[0;32m    109\u001b[0m \u001b[38;5;28;01mdef\u001b[39;00m \u001b[38;5;21mout\u001b[39m(\u001b[38;5;241m*\u001b[39margs, \u001b[38;5;241m*\u001b[39m\u001b[38;5;241m*\u001b[39mkwargs):\n\u001b[0;32m    110\u001b[0m     \u001b[38;5;28;01mfor\u001b[39;00m callback \u001b[38;5;129;01min\u001b[39;00m \u001b[38;5;28mself\u001b[39m\u001b[38;5;241m.\u001b[39m_before:\n\u001b[1;32m--> 111\u001b[0m         callback\u001b[38;5;241m.\u001b[39m\u001b[38;5;21m__get__\u001b[39m(obj, objtype)(\u001b[38;5;241m*\u001b[39margs, \u001b[38;5;241m*\u001b[39m\u001b[38;5;241m*\u001b[39mkwargs)\n\u001b[0;32m    112\u001b[0m     retval \u001b[38;5;241m=\u001b[39m method(\u001b[38;5;241m*\u001b[39margs, \u001b[38;5;241m*\u001b[39m\u001b[38;5;241m*\u001b[39mkwargs)\n\u001b[0;32m    113\u001b[0m     \u001b[38;5;28;01mfor\u001b[39;00m callback \u001b[38;5;129;01min\u001b[39;00m \u001b[38;5;28mself\u001b[39m\u001b[38;5;241m.\u001b[39m_after:\n",
      "File \u001b[1;32m~\\AppData\\Roaming\\Python\\Python39\\site-packages\\qiskit\\utils\\lazy_tester.py:39\u001b[0m, in \u001b[0;36m_RequireNow.__call__\u001b[1;34m(self, *_args, **_kwargs)\u001b[0m\n\u001b[0;32m     38\u001b[0m \u001b[38;5;28;01mdef\u001b[39;00m \u001b[38;5;21m__call__\u001b[39m(\u001b[38;5;28mself\u001b[39m, \u001b[38;5;241m*\u001b[39m_args, \u001b[38;5;241m*\u001b[39m\u001b[38;5;241m*\u001b[39m_kwargs):\n\u001b[1;32m---> 39\u001b[0m     \u001b[38;5;28;43mself\u001b[39;49m\u001b[38;5;241;43m.\u001b[39;49m\u001b[43m_tester\u001b[49m\u001b[38;5;241;43m.\u001b[39;49m\u001b[43mrequire_now\u001b[49m\u001b[43m(\u001b[49m\u001b[38;5;28;43mself\u001b[39;49m\u001b[38;5;241;43m.\u001b[39;49m\u001b[43m_feature\u001b[49m\u001b[43m)\u001b[49m\n",
      "File \u001b[1;32m~\\AppData\\Roaming\\Python\\Python39\\site-packages\\qiskit\\utils\\lazy_tester.py:223\u001b[0m, in \u001b[0;36mLazyDependencyManager.require_now\u001b[1;34m(self, feature)\u001b[0m\n\u001b[0;32m    221\u001b[0m \u001b[38;5;28;01mif\u001b[39;00m \u001b[38;5;28mself\u001b[39m:\n\u001b[0;32m    222\u001b[0m     \u001b[38;5;28;01mreturn\u001b[39;00m\n\u001b[1;32m--> 223\u001b[0m \u001b[38;5;28;01mraise\u001b[39;00m MissingOptionalLibraryError(\n\u001b[0;32m    224\u001b[0m     libname\u001b[38;5;241m=\u001b[39m\u001b[38;5;28mself\u001b[39m\u001b[38;5;241m.\u001b[39m_name, name\u001b[38;5;241m=\u001b[39mfeature, pip_install\u001b[38;5;241m=\u001b[39m\u001b[38;5;28mself\u001b[39m\u001b[38;5;241m.\u001b[39m_install, msg\u001b[38;5;241m=\u001b[39m\u001b[38;5;28mself\u001b[39m\u001b[38;5;241m.\u001b[39m_msg\n\u001b[0;32m    225\u001b[0m )\n",
      "\u001b[1;31mMissingOptionalLibraryError\u001b[0m: \"The 'pyscf' library is required to use 'PySCFDriver'.  See https://pyscf.org/install.html.\""
     ]
    }
   ],
   "source": [
    "for i,d in enumerate(distances):\n",
    "    print('step',i)\n",
    "    \n",
    "    # set up experiment\n",
    "    driver = PySCFDriver(atom=molecule, basis=\"sto-3g\")\n",
    "    problem = driver.run()"
   ]
  },
  {
   "cell_type": "code",
   "execution_count": null,
   "id": "c1b3d421",
   "metadata": {},
   "outputs": [],
   "source": []
  }
 ],
 "metadata": {
  "kernelspec": {
   "display_name": "Python 3 (ipykernel)",
   "language": "python",
   "name": "python3"
  },
  "language_info": {
   "codemirror_mode": {
    "name": "ipython",
    "version": 3
   },
   "file_extension": ".py",
   "mimetype": "text/x-python",
   "name": "python",
   "nbconvert_exporter": "python",
   "pygments_lexer": "ipython3",
   "version": "3.9.12"
  }
 },
 "nbformat": 4,
 "nbformat_minor": 5
}
